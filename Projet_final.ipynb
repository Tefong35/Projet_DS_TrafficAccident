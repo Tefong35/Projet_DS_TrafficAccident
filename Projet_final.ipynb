{
  "nbformat": 4,
  "nbformat_minor": 0,
  "metadata": {
    "colab": {
      "provenance": [],
      "mount_file_id": "1I7NfPGRKI3VA1lnmEdstzKM4repj1aEG",
      "authorship_tag": "ABX9TyPewtoAfNHjr9xurn57Im9f",
      "include_colab_link": true
    },
    "kernelspec": {
      "name": "python3",
      "display_name": "Python 3"
    },
    "language_info": {
      "name": "python"
    }
  },
  "cells": [
    {
      "cell_type": "markdown",
      "metadata": {
        "id": "view-in-github",
        "colab_type": "text"
      },
      "source": [
        "<a href=\"https://colab.research.google.com/github/Tefong35/Projet_DS_TrafficAccident/blob/main/Projet_final.ipynb\" target=\"_parent\"><img src=\"https://colab.research.google.com/assets/colab-badge.svg\" alt=\"Open In Colab\"/></a>"
      ]
    },
    {
      "cell_type": "code",
      "execution_count": 2,
      "metadata": {
        "colab": {
          "base_uri": "https://localhost:8080/"
        },
        "id": "5qKugwGC8dCS",
        "outputId": "793e63d7-46a0-4344-8f31-446977c3359e"
      },
      "outputs": [
        {
          "output_type": "stream",
          "name": "stdout",
          "text": [
            "Drive already mounted at /content/drive; to attempt to forcibly remount, call drive.mount(\"/content/drive\", force_remount=True).\n"
          ]
        }
      ],
      "source": [
        "from google.colab import drive\n",
        "drive.mount('/content/drive')"
      ]
    },
    {
      "cell_type": "markdown",
      "source": [
        "# Accident Routiers en France\n",
        "**Objectif: Prédire la gravité des accidents routiers en France.**\n"
      ],
      "metadata": {
        "id": "dYAqiDDp92Vh"
      }
    },
    {
      "cell_type": "code",
      "source": [
        "# Importer le jeu données\n",
        "import pandas as pd\n",
        "import numpy as np\n",
        "dataset = pd.read_csv(\"/content/drive/MyDrive/Projet_DataScientest/001_df_processed_nogps.csv\", low_memory=False) #, na_values=[\"-1\"]\n",
        "dataset.head()"
      ],
      "metadata": {
        "colab": {
          "base_uri": "https://localhost:8080/",
          "height": 372
        },
        "id": "7NSFyfNv-IZp",
        "outputId": "b9132d7c-4999-4ef9-859c-947c691e9ee6"
      },
      "execution_count": 1,
      "outputs": [
        {
          "output_type": "error",
          "ename": "KeyboardInterrupt",
          "evalue": "ignored",
          "traceback": [
            "\u001b[0;31m---------------------------------------------------------------------------\u001b[0m",
            "\u001b[0;31mKeyboardInterrupt\u001b[0m                         Traceback (most recent call last)",
            "\u001b[0;32m<ipython-input-1-808128008620>\u001b[0m in \u001b[0;36m<cell line: 4>\u001b[0;34m()\u001b[0m\n\u001b[1;32m      2\u001b[0m \u001b[0;32mimport\u001b[0m \u001b[0mpandas\u001b[0m \u001b[0;32mas\u001b[0m \u001b[0mpd\u001b[0m\u001b[0;34m\u001b[0m\u001b[0;34m\u001b[0m\u001b[0m\n\u001b[1;32m      3\u001b[0m \u001b[0;32mimport\u001b[0m \u001b[0mnumpy\u001b[0m \u001b[0;32mas\u001b[0m \u001b[0mnp\u001b[0m\u001b[0;34m\u001b[0m\u001b[0;34m\u001b[0m\u001b[0m\n\u001b[0;32m----> 4\u001b[0;31m \u001b[0mdataset\u001b[0m \u001b[0;34m=\u001b[0m \u001b[0mpd\u001b[0m\u001b[0;34m.\u001b[0m\u001b[0mread_csv\u001b[0m\u001b[0;34m(\u001b[0m\u001b[0;34m\"/content/drive/MyDrive/Projet_DataScientest/001_df_processed_nogps.csv\"\u001b[0m\u001b[0;34m,\u001b[0m \u001b[0mlow_memory\u001b[0m\u001b[0;34m=\u001b[0m\u001b[0;32mFalse\u001b[0m\u001b[0;34m)\u001b[0m \u001b[0;31m#, na_values=[\"-1\"]\u001b[0m\u001b[0;34m\u001b[0m\u001b[0;34m\u001b[0m\u001b[0m\n\u001b[0m\u001b[1;32m      5\u001b[0m \u001b[0mdataset\u001b[0m\u001b[0;34m.\u001b[0m\u001b[0mhead\u001b[0m\u001b[0;34m(\u001b[0m\u001b[0;34m)\u001b[0m\u001b[0;34m\u001b[0m\u001b[0;34m\u001b[0m\u001b[0m\n",
            "\u001b[0;32m/usr/local/lib/python3.10/dist-packages/pandas/util/_decorators.py\u001b[0m in \u001b[0;36mwrapper\u001b[0;34m(*args, **kwargs)\u001b[0m\n\u001b[1;32m    209\u001b[0m                 \u001b[0;32melse\u001b[0m\u001b[0;34m:\u001b[0m\u001b[0;34m\u001b[0m\u001b[0;34m\u001b[0m\u001b[0m\n\u001b[1;32m    210\u001b[0m                     \u001b[0mkwargs\u001b[0m\u001b[0;34m[\u001b[0m\u001b[0mnew_arg_name\u001b[0m\u001b[0;34m]\u001b[0m \u001b[0;34m=\u001b[0m \u001b[0mnew_arg_value\u001b[0m\u001b[0;34m\u001b[0m\u001b[0;34m\u001b[0m\u001b[0m\n\u001b[0;32m--> 211\u001b[0;31m             \u001b[0;32mreturn\u001b[0m \u001b[0mfunc\u001b[0m\u001b[0;34m(\u001b[0m\u001b[0;34m*\u001b[0m\u001b[0margs\u001b[0m\u001b[0;34m,\u001b[0m \u001b[0;34m**\u001b[0m\u001b[0mkwargs\u001b[0m\u001b[0;34m)\u001b[0m\u001b[0;34m\u001b[0m\u001b[0;34m\u001b[0m\u001b[0m\n\u001b[0m\u001b[1;32m    212\u001b[0m \u001b[0;34m\u001b[0m\u001b[0m\n\u001b[1;32m    213\u001b[0m         \u001b[0;32mreturn\u001b[0m \u001b[0mcast\u001b[0m\u001b[0;34m(\u001b[0m\u001b[0mF\u001b[0m\u001b[0;34m,\u001b[0m \u001b[0mwrapper\u001b[0m\u001b[0;34m)\u001b[0m\u001b[0;34m\u001b[0m\u001b[0;34m\u001b[0m\u001b[0m\n",
            "\u001b[0;32m/usr/local/lib/python3.10/dist-packages/pandas/util/_decorators.py\u001b[0m in \u001b[0;36mwrapper\u001b[0;34m(*args, **kwargs)\u001b[0m\n\u001b[1;32m    329\u001b[0m                     \u001b[0mstacklevel\u001b[0m\u001b[0;34m=\u001b[0m\u001b[0mfind_stack_level\u001b[0m\u001b[0;34m(\u001b[0m\u001b[0;34m)\u001b[0m\u001b[0;34m,\u001b[0m\u001b[0;34m\u001b[0m\u001b[0;34m\u001b[0m\u001b[0m\n\u001b[1;32m    330\u001b[0m                 )\n\u001b[0;32m--> 331\u001b[0;31m             \u001b[0;32mreturn\u001b[0m \u001b[0mfunc\u001b[0m\u001b[0;34m(\u001b[0m\u001b[0;34m*\u001b[0m\u001b[0margs\u001b[0m\u001b[0;34m,\u001b[0m \u001b[0;34m**\u001b[0m\u001b[0mkwargs\u001b[0m\u001b[0;34m)\u001b[0m\u001b[0;34m\u001b[0m\u001b[0;34m\u001b[0m\u001b[0m\n\u001b[0m\u001b[1;32m    332\u001b[0m \u001b[0;34m\u001b[0m\u001b[0m\n\u001b[1;32m    333\u001b[0m         \u001b[0;31m# error: \"Callable[[VarArg(Any), KwArg(Any)], Any]\" has no\u001b[0m\u001b[0;34m\u001b[0m\u001b[0;34m\u001b[0m\u001b[0m\n",
            "\u001b[0;32m/usr/local/lib/python3.10/dist-packages/pandas/io/parsers/readers.py\u001b[0m in \u001b[0;36mread_csv\u001b[0;34m(filepath_or_buffer, sep, delimiter, header, names, index_col, usecols, squeeze, prefix, mangle_dupe_cols, dtype, engine, converters, true_values, false_values, skipinitialspace, skiprows, skipfooter, nrows, na_values, keep_default_na, na_filter, verbose, skip_blank_lines, parse_dates, infer_datetime_format, keep_date_col, date_parser, dayfirst, cache_dates, iterator, chunksize, compression, thousands, decimal, lineterminator, quotechar, quoting, doublequote, escapechar, comment, encoding, encoding_errors, dialect, error_bad_lines, warn_bad_lines, on_bad_lines, delim_whitespace, low_memory, memory_map, float_precision, storage_options)\u001b[0m\n\u001b[1;32m    948\u001b[0m     \u001b[0mkwds\u001b[0m\u001b[0;34m.\u001b[0m\u001b[0mupdate\u001b[0m\u001b[0;34m(\u001b[0m\u001b[0mkwds_defaults\u001b[0m\u001b[0;34m)\u001b[0m\u001b[0;34m\u001b[0m\u001b[0;34m\u001b[0m\u001b[0m\n\u001b[1;32m    949\u001b[0m \u001b[0;34m\u001b[0m\u001b[0m\n\u001b[0;32m--> 950\u001b[0;31m     \u001b[0;32mreturn\u001b[0m \u001b[0m_read\u001b[0m\u001b[0;34m(\u001b[0m\u001b[0mfilepath_or_buffer\u001b[0m\u001b[0;34m,\u001b[0m \u001b[0mkwds\u001b[0m\u001b[0;34m)\u001b[0m\u001b[0;34m\u001b[0m\u001b[0;34m\u001b[0m\u001b[0m\n\u001b[0m\u001b[1;32m    951\u001b[0m \u001b[0;34m\u001b[0m\u001b[0m\n\u001b[1;32m    952\u001b[0m \u001b[0;34m\u001b[0m\u001b[0m\n",
            "\u001b[0;32m/usr/local/lib/python3.10/dist-packages/pandas/io/parsers/readers.py\u001b[0m in \u001b[0;36m_read\u001b[0;34m(filepath_or_buffer, kwds)\u001b[0m\n\u001b[1;32m    609\u001b[0m \u001b[0;34m\u001b[0m\u001b[0m\n\u001b[1;32m    610\u001b[0m     \u001b[0;32mwith\u001b[0m \u001b[0mparser\u001b[0m\u001b[0;34m:\u001b[0m\u001b[0;34m\u001b[0m\u001b[0;34m\u001b[0m\u001b[0m\n\u001b[0;32m--> 611\u001b[0;31m         \u001b[0;32mreturn\u001b[0m \u001b[0mparser\u001b[0m\u001b[0;34m.\u001b[0m\u001b[0mread\u001b[0m\u001b[0;34m(\u001b[0m\u001b[0mnrows\u001b[0m\u001b[0;34m)\u001b[0m\u001b[0;34m\u001b[0m\u001b[0;34m\u001b[0m\u001b[0m\n\u001b[0m\u001b[1;32m    612\u001b[0m \u001b[0;34m\u001b[0m\u001b[0m\n\u001b[1;32m    613\u001b[0m \u001b[0;34m\u001b[0m\u001b[0m\n",
            "\u001b[0;32m/usr/local/lib/python3.10/dist-packages/pandas/io/parsers/readers.py\u001b[0m in \u001b[0;36mread\u001b[0;34m(self, nrows)\u001b[0m\n\u001b[1;32m   1776\u001b[0m                     \u001b[0mcolumns\u001b[0m\u001b[0;34m,\u001b[0m\u001b[0;34m\u001b[0m\u001b[0;34m\u001b[0m\u001b[0m\n\u001b[1;32m   1777\u001b[0m                     \u001b[0mcol_dict\u001b[0m\u001b[0;34m,\u001b[0m\u001b[0;34m\u001b[0m\u001b[0;34m\u001b[0m\u001b[0m\n\u001b[0;32m-> 1778\u001b[0;31m                 \u001b[0;34m)\u001b[0m \u001b[0;34m=\u001b[0m \u001b[0mself\u001b[0m\u001b[0;34m.\u001b[0m\u001b[0m_engine\u001b[0m\u001b[0;34m.\u001b[0m\u001b[0mread\u001b[0m\u001b[0;34m(\u001b[0m  \u001b[0;31m# type: ignore[attr-defined]\u001b[0m\u001b[0;34m\u001b[0m\u001b[0;34m\u001b[0m\u001b[0m\n\u001b[0m\u001b[1;32m   1779\u001b[0m                     \u001b[0mnrows\u001b[0m\u001b[0;34m\u001b[0m\u001b[0;34m\u001b[0m\u001b[0m\n\u001b[1;32m   1780\u001b[0m                 )\n",
            "\u001b[0;32m/usr/local/lib/python3.10/dist-packages/pandas/io/parsers/c_parser_wrapper.py\u001b[0m in \u001b[0;36mread\u001b[0;34m(self, nrows)\u001b[0m\n\u001b[1;32m    233\u001b[0m \u001b[0;34m\u001b[0m\u001b[0m\n\u001b[1;32m    234\u001b[0m             \u001b[0;32melse\u001b[0m\u001b[0;34m:\u001b[0m\u001b[0;34m\u001b[0m\u001b[0;34m\u001b[0m\u001b[0m\n\u001b[0;32m--> 235\u001b[0;31m                 \u001b[0mdata\u001b[0m \u001b[0;34m=\u001b[0m \u001b[0mself\u001b[0m\u001b[0;34m.\u001b[0m\u001b[0m_reader\u001b[0m\u001b[0;34m.\u001b[0m\u001b[0mread\u001b[0m\u001b[0;34m(\u001b[0m\u001b[0mnrows\u001b[0m\u001b[0;34m)\u001b[0m\u001b[0;34m\u001b[0m\u001b[0;34m\u001b[0m\u001b[0m\n\u001b[0m\u001b[1;32m    236\u001b[0m         \u001b[0;32mexcept\u001b[0m \u001b[0mStopIteration\u001b[0m\u001b[0;34m:\u001b[0m\u001b[0;34m\u001b[0m\u001b[0;34m\u001b[0m\u001b[0m\n\u001b[1;32m    237\u001b[0m             \u001b[0;32mif\u001b[0m \u001b[0mself\u001b[0m\u001b[0;34m.\u001b[0m\u001b[0m_first_chunk\u001b[0m\u001b[0;34m:\u001b[0m\u001b[0;34m\u001b[0m\u001b[0;34m\u001b[0m\u001b[0m\n",
            "\u001b[0;32m/usr/local/lib/python3.10/dist-packages/pandas/_libs/parsers.pyx\u001b[0m in \u001b[0;36mpandas._libs.parsers.TextReader.read\u001b[0;34m()\u001b[0m\n",
            "\u001b[0;32m/usr/local/lib/python3.10/dist-packages/pandas/_libs/parsers.pyx\u001b[0m in \u001b[0;36mpandas._libs.parsers.TextReader._read_rows\u001b[0;34m()\u001b[0m\n",
            "\u001b[0;32m/usr/local/lib/python3.10/dist-packages/pandas/_libs/parsers.pyx\u001b[0m in \u001b[0;36mpandas._libs.parsers.TextReader._convert_column_data\u001b[0;34m()\u001b[0m\n",
            "\u001b[0;32m/usr/local/lib/python3.10/dist-packages/pandas/_libs/parsers.pyx\u001b[0m in \u001b[0;36mpandas._libs.parsers.TextReader._convert_tokens\u001b[0;34m()\u001b[0m\n",
            "\u001b[0;32m/usr/local/lib/python3.10/dist-packages/pandas/_libs/parsers.pyx\u001b[0m in \u001b[0;36mpandas._libs.parsers.TextReader._convert_with_dtype\u001b[0;34m()\u001b[0m\n",
            "\u001b[0;32m/usr/local/lib/python3.10/dist-packages/pandas/core/dtypes/common.py\u001b[0m in \u001b[0;36mis_extension_array_dtype\u001b[0;34m(arr_or_dtype)\u001b[0m\n\u001b[1;32m   1431\u001b[0m \u001b[0;34m\u001b[0m\u001b[0m\n\u001b[1;32m   1432\u001b[0m \u001b[0;34m\u001b[0m\u001b[0m\n\u001b[0;32m-> 1433\u001b[0;31m \u001b[0;32mdef\u001b[0m \u001b[0mis_extension_array_dtype\u001b[0m\u001b[0;34m(\u001b[0m\u001b[0marr_or_dtype\u001b[0m\u001b[0;34m)\u001b[0m \u001b[0;34m->\u001b[0m \u001b[0mbool\u001b[0m\u001b[0;34m:\u001b[0m\u001b[0;34m\u001b[0m\u001b[0;34m\u001b[0m\u001b[0m\n\u001b[0m\u001b[1;32m   1434\u001b[0m     \"\"\"\n\u001b[1;32m   1435\u001b[0m     \u001b[0mCheck\u001b[0m \u001b[0;32mif\u001b[0m \u001b[0man\u001b[0m \u001b[0mobject\u001b[0m \u001b[0;32mis\u001b[0m \u001b[0ma\u001b[0m \u001b[0mpandas\u001b[0m \u001b[0mextension\u001b[0m \u001b[0marray\u001b[0m \u001b[0mtype\u001b[0m\u001b[0;34m.\u001b[0m\u001b[0;34m\u001b[0m\u001b[0;34m\u001b[0m\u001b[0m\n",
            "\u001b[0;31mKeyboardInterrupt\u001b[0m: "
          ]
        }
      ]
    },
    {
      "cell_type": "code",
      "source": [
        "#dataset.info()"
      ],
      "metadata": {
        "id": "rJ8tplQ2-Lu2"
      },
      "execution_count": 1,
      "outputs": []
    },
    {
      "cell_type": "code",
      "source": [
        "# Analyser les cas de données manquantes dans le DataFrame\n",
        "#dataset.isna().sum(axis = 0)*100/len(dataset)"
      ],
      "metadata": {
        "id": "rdy9TES5-L8e"
      },
      "execution_count": 2,
      "outputs": []
    },
    {
      "cell_type": "markdown",
      "source": [
        "# Classification Multiclasse/Binaire - Analyse Factorielle\n",
        "\n",
        ">\n",
        "\n"
      ],
      "metadata": {
        "id": "17lR8iIWeAuj"
      }
    },
    {
      "cell_type": "code",
      "source": [
        "import numpy as np\n",
        "import pandas as pd\n",
        "import matplotlib.pyplot as plt\n",
        "import matplotlib.ticker as ticker\n",
        "import seaborn as sns\n",
        "\n",
        "from sklearn.preprocessing import OrdinalEncoder, OneHotEncoder\n",
        "from sklearn.preprocessing import StandardScaler\n",
        "\n",
        "from sklearn.model_selection import StratifiedShuffleSplit, GridSearchCV, train_test_split\n",
        "from sklearn.linear_model import SGDClassifier, LogisticRegression\n",
        "from sklearn.ensemble import RandomForestClassifier, AdaBoostClassifier, GradientBoostingClassifier\n",
        "from sklearn.tree import DecisionTreeClassifier\n",
        "from sklearn.neural_network import MLPClassifier\n",
        "\n",
        "from sklearn.metrics import classification_report, accuracy_score, confusion_matrix\n",
        "from sklearn.metrics import precision_score, recall_score, f1_score"
      ],
      "metadata": {
        "id": "6318WcswER30"
      },
      "execution_count": 4,
      "outputs": []
    },
    {
      "cell_type": "code",
      "source": [
        "!pip install factor_analyzer\n",
        "\n",
        "from factor_analyzer import FactorAnalyzer\n",
        "from factor_analyzer.factor_analyzer import calculate_bartlett_sphericity\n",
        "from factor_analyzer.factor_analyzer import calculate_kmo"
      ],
      "metadata": {
        "colab": {
          "base_uri": "https://localhost:8080/"
        },
        "id": "s_Z8UgblETt-",
        "outputId": "6d33b92a-8054-446d-af30-03f6e931213f"
      },
      "execution_count": 5,
      "outputs": [
        {
          "output_type": "stream",
          "name": "stdout",
          "text": [
            "Requirement already satisfied: factor_analyzer in /usr/local/lib/python3.10/dist-packages (0.5.0)\n",
            "Requirement already satisfied: pandas in /usr/local/lib/python3.10/dist-packages (from factor_analyzer) (1.5.3)\n",
            "Requirement already satisfied: scipy in /usr/local/lib/python3.10/dist-packages (from factor_analyzer) (1.11.2)\n",
            "Requirement already satisfied: numpy in /usr/local/lib/python3.10/dist-packages (from factor_analyzer) (1.23.5)\n",
            "Requirement already satisfied: scikit-learn in /usr/local/lib/python3.10/dist-packages (from factor_analyzer) (1.2.2)\n",
            "Requirement already satisfied: pre-commit in /usr/local/lib/python3.10/dist-packages (from factor_analyzer) (3.4.0)\n",
            "Requirement already satisfied: python-dateutil>=2.8.1 in /usr/local/lib/python3.10/dist-packages (from pandas->factor_analyzer) (2.8.2)\n",
            "Requirement already satisfied: pytz>=2020.1 in /usr/local/lib/python3.10/dist-packages (from pandas->factor_analyzer) (2023.3.post1)\n",
            "Requirement already satisfied: cfgv>=2.0.0 in /usr/local/lib/python3.10/dist-packages (from pre-commit->factor_analyzer) (3.4.0)\n",
            "Requirement already satisfied: identify>=1.0.0 in /usr/local/lib/python3.10/dist-packages (from pre-commit->factor_analyzer) (2.5.29)\n",
            "Requirement already satisfied: nodeenv>=0.11.1 in /usr/local/lib/python3.10/dist-packages (from pre-commit->factor_analyzer) (1.8.0)\n",
            "Requirement already satisfied: pyyaml>=5.1 in /usr/local/lib/python3.10/dist-packages (from pre-commit->factor_analyzer) (6.0.1)\n",
            "Requirement already satisfied: virtualenv>=20.10.0 in /usr/local/lib/python3.10/dist-packages (from pre-commit->factor_analyzer) (20.24.5)\n",
            "Requirement already satisfied: joblib>=1.1.1 in /usr/local/lib/python3.10/dist-packages (from scikit-learn->factor_analyzer) (1.3.2)\n",
            "Requirement already satisfied: threadpoolctl>=2.0.0 in /usr/local/lib/python3.10/dist-packages (from scikit-learn->factor_analyzer) (3.2.0)\n",
            "Requirement already satisfied: setuptools in /usr/local/lib/python3.10/dist-packages (from nodeenv>=0.11.1->pre-commit->factor_analyzer) (67.7.2)\n",
            "Requirement already satisfied: six>=1.5 in /usr/local/lib/python3.10/dist-packages (from python-dateutil>=2.8.1->pandas->factor_analyzer) (1.16.0)\n",
            "Requirement already satisfied: distlib<1,>=0.3.7 in /usr/local/lib/python3.10/dist-packages (from virtualenv>=20.10.0->pre-commit->factor_analyzer) (0.3.7)\n",
            "Requirement already satisfied: filelock<4,>=3.12.2 in /usr/local/lib/python3.10/dist-packages (from virtualenv>=20.10.0->pre-commit->factor_analyzer) (3.12.2)\n",
            "Requirement already satisfied: platformdirs<4,>=3.9.1 in /usr/local/lib/python3.10/dist-packages (from virtualenv>=20.10.0->pre-commit->factor_analyzer) (3.10.0)\n"
          ]
        }
      ]
    },
    {
      "cell_type": "code",
      "source": [
        "dataset_new = dataset.copy()"
      ],
      "metadata": {
        "id": "NOp-hd8DG4RL"
      },
      "execution_count": 6,
      "outputs": []
    },
    {
      "cell_type": "code",
      "source": [
        "dataset_new['grav'] = dataset_new['grav'].replace({1:\"0\",2:\"3\",3:\"2\",4:\"1\"}).astype(int)\n",
        "dataset_new = dataset_new.sort_values(by='grav')\n",
        "y = dataset_new['grav']\n",
        "y_multiclass = np.array(y).ravel()\n",
        "y_b =y.replace({0:'0',1:'0',2:'1',3:'1'}).astype(int)\n",
        "y_binaire = np.array(y_b).ravel()\n",
        "#target=target.apply(lambda x: 1 if (x==2 or x==3) else 0)\n",
        "drop_var = ['grav','num_veh','date','Num_Acc', \"age\", \"lum\", \"agg\"]\n",
        "X = dataset_new.drop(drop_var, axis=1)"
      ],
      "metadata": {
        "id": "uLYhpbBc-MIr"
      },
      "execution_count": 7,
      "outputs": []
    },
    {
      "cell_type": "markdown",
      "source": [
        "Sampling Adequacy - Kaiser-Meyer-Olkin (KMO) **test**"
      ],
      "metadata": {
        "id": "odbpVdnjI0u-"
      }
    },
    {
      "cell_type": "code",
      "source": [
        "#Sampling Adequacy - Kaiser-Meyer-Olkin (KMO) test\n",
        "\n",
        "#Le test KMO mesure l’adéquation des données à l’analyse factorielle.\n",
        "#Il détermine l'adéquation pour chaque variable observée et pour le modèle complet.\n",
        "#KMO estime la proportion de variance entre toutes les variables observées. Une proportion plus faible convient mieux à l’analyse factorielle.\n",
        "#Les valeurs de KMO varient entre 0 et 1. Une valeur de KMO inférieure à 0,6 est considérée comme insuffisante.\n",
        "\n",
        "\n",
        "kmo_all, kmo_model = calculate_kmo(X)\n",
        "\n",
        "print(\"Overall KMO = {:.3f}\".format(kmo_model))\n",
        "print(\"KMO per feature:\\n{}\".format(kmo_all.round(3)))"
      ],
      "metadata": {
        "colab": {
          "base_uri": "https://localhost:8080/"
        },
        "id": "WzaVVN15IxYS",
        "outputId": "4e3c577a-b2a7-4105-a0c5-365e700ae174"
      },
      "execution_count": 8,
      "outputs": [
        {
          "output_type": "stream",
          "name": "stderr",
          "text": [
            "/usr/local/lib/python3.10/dist-packages/factor_analyzer/utils.py:244: UserWarning: The inverse of the variance-covariance matrix was calculated using the Moore-Penrose generalized matrix inversion, due to its determinant being at or very close to zero.\n",
            "  warnings.warn(\n"
          ]
        },
        {
          "output_type": "stream",
          "name": "stdout",
          "text": [
            "Overall KMO = 0.392\n",
            "KMO per feature:\n",
            "[0.953 0.939 0.806 0.573 0.076 0.064 0.064 0.242 0.482 0.499 0.396 0.877\n",
            " 0.582 0.581 0.334 0.216 0.332 0.333 0.57  0.537 0.601 0.428 0.177 0.052\n",
            " 0.108 0.143 0.12  0.571 0.435 0.712 0.459 0.531 0.707 0.799 0.203 0.198\n",
            " 0.076 0.064 0.161 0.153 0.184 0.564 0.59  0.411 0.351 0.296 0.437 0.842\n",
            " 0.556 0.697 0.633 0.448 0.506 0.745 0.689 0.464 0.126 0.08  0.416 0.205\n",
            " 0.186 0.112 0.136 0.131 0.407 0.544 0.572 0.279 0.395 0.342 0.363 0.391\n",
            " 0.635 0.406 0.329 0.346 0.077 0.596 0.601 0.452 0.636 0.647 0.373 0.371\n",
            " 0.616 0.79 ]\n"
          ]
        }
      ]
    },
    {
      "cell_type": "code",
      "source": [
        "X.shape"
      ],
      "metadata": {
        "colab": {
          "base_uri": "https://localhost:8080/"
        },
        "id": "FdSOMmvGMeyo",
        "outputId": "828a9d9f-a966-4d5a-a86a-c54ac761c0ff"
      },
      "execution_count": 12,
      "outputs": [
        {
          "output_type": "execute_result",
          "data": {
            "text/plain": [
              "(2509660, 86)"
            ]
          },
          "metadata": {},
          "execution_count": 12
        }
      ]
    },
    {
      "cell_type": "code",
      "source": [
        "#chi_square_value, p_value = calculate_bartlett_sphericity(X)\n",
        "#chi_square_value, p_value\n",
        "# Variables considered adequate by the KMO test\n",
        "kmo_passed = list(X.columns[kmo_all >= 0.5])\n",
        "kmo_passed"
      ],
      "metadata": {
        "colab": {
          "base_uri": "https://localhost:8080/"
        },
        "id": "1aN-zVO3L9sq",
        "outputId": "9bfee4a3-bf3b-46dd-f4b9-c75ebb6622ad"
      },
      "execution_count": 9,
      "outputs": [
        {
          "output_type": "execute_result",
          "data": {
            "text/plain": [
              "['Casque',\n",
              " 'Ceinture',\n",
              " 'Dispositif_Enfant',\n",
              " 'Equipement_Réfléchissant',\n",
              " 'catu_Pieton',\n",
              " 'sexe_Feminin',\n",
              " 'sexe_Masculin',\n",
              " 'trajet_Utilisation_Professionnelle',\n",
              " 'locp_Chausse_Hors_Passage_Pieton',\n",
              " 'locp_Sur_Passage_Pieton',\n",
              " 'actp_Traversant',\n",
              " 'etatp_Seul',\n",
              " 'senc_Repere_Decroissant',\n",
              " 'prof_Pente',\n",
              " 'plan_Courbe',\n",
              " 'situ_Chausse',\n",
              " 'situ_Trottoir/Bord_de_route',\n",
              " 'infra_Autre',\n",
              " 'infra_Carrefour',\n",
              " 'vosp_Cycl/Reserv',\n",
              " 'col_2_Vehicules',\n",
              " 'obs_Fixe',\n",
              " 'obs_Piéton',\n",
              " 'obs_Vehicule',\n",
              " 'int_TouY',\n",
              " 'int_X',\n",
              " 'region_Auvergne-Rhône-Alpes',\n",
              " 'region_Grand Est',\n",
              " 'region_Hauts-de-France',\n",
              " 'region_Nouvelle-Aquitaine',\n",
              " 'region_Occitanie',\n",
              " \"region_Provence-Alpes-Côte d'Azur\",\n",
              " 'region_Île-de-France']"
            ]
          },
          "metadata": {},
          "execution_count": 9
        }
      ]
    },
    {
      "cell_type": "code",
      "source": [
        "# Variables considered inadequate by the KMO test\n",
        "kmo_failed = list(X.columns[kmo_all < 0.5])\n",
        "kmo_failed"
      ],
      "metadata": {
        "colab": {
          "base_uri": "https://localhost:8080/"
        },
        "id": "Vg6LucrxMNLM",
        "outputId": "dcd325e9-5e57-4fc1-bacd-257aae3aa208"
      },
      "execution_count": 10,
      "outputs": [
        {
          "output_type": "execute_result",
          "data": {
            "text/plain": [
              "['place_Arriere_Droit',\n",
              " 'place_Arriere_Gauche',\n",
              " 'place_Autre',\n",
              " 'place_Avant_Droit',\n",
              " 'place_Avant_Gauche',\n",
              " 'catu_Conducteur',\n",
              " 'catu_Passager',\n",
              " 'trajet_Achats',\n",
              " 'trajet_Autre',\n",
              " 'trajet_Domicile_Travail',\n",
              " 'trajet_Loisirs',\n",
              " 'locp_Trottoir/Bord_de_route',\n",
              " 'actp_Autre',\n",
              " 'actp_Avec_Animal',\n",
              " 'actp_Deplacement_sens_inv_vehicule',\n",
              " 'actp_Deplacement_sens_vehicule',\n",
              " 'actp_Jouant_Courant',\n",
              " 'etatp_Groupe',\n",
              " 'senc_Repere_Croissant',\n",
              " 'manv_Arret/se_gare',\n",
              " 'manv_Aucune_Manoeuvre',\n",
              " 'manv_Autre',\n",
              " 'manv_Contresens',\n",
              " 'manv_Depasse',\n",
              " 'manv_Deport',\n",
              " 'manv_Tourne',\n",
              " 'circ_Bidirectionnelle',\n",
              " 'circ_Chausse_Separee',\n",
              " 'circ_Sens_Unique',\n",
              " 'surf_Glissant',\n",
              " 'col_3_Vehicules',\n",
              " 'catv_2_roues',\n",
              " 'catv_Lourd',\n",
              " 'catv_Utilitaire',\n",
              " 'catv_Voiture',\n",
              " 'choc_Arriere',\n",
              " 'choc_Avant',\n",
              " 'choc_Droit',\n",
              " 'choc_Gauche',\n",
              " 'choc_Tonneaux',\n",
              " 'int_Autre',\n",
              " 'atm_Eleve',\n",
              " 'atm_Faible',\n",
              " 'catr_Departementale',\n",
              " 'catr_Nationnale/Autoroute',\n",
              " 'catr_Voix_Communale',\n",
              " 'region_Bourgogne-Franche-Comté',\n",
              " 'region_Bretagne',\n",
              " 'region_Centre-Val de Loire',\n",
              " 'region_Corse',\n",
              " 'region_Normandie',\n",
              " 'region_Outre-Mer',\n",
              " 'region_Pays de la Loire']"
            ]
          },
          "metadata": {},
          "execution_count": 10
        }
      ]
    },
    {
      "cell_type": "code",
      "source": [
        "print(len(kmo_passed))\n",
        "print(len(kmo_failed))\n"
      ],
      "metadata": {
        "colab": {
          "base_uri": "https://localhost:8080/"
        },
        "id": "3KkCInjfMV3j",
        "outputId": "d3510799-b6d4-4bac-c502-a32410e98a8d"
      },
      "execution_count": 9,
      "outputs": [
        {
          "output_type": "stream",
          "name": "stdout",
          "text": [
            "33\n",
            "53\n"
          ]
        }
      ]
    },
    {
      "cell_type": "code",
      "source": [
        "# Preuve pour confirmer que les variables choisis sont adequate pour l,analyse factoriel\n",
        "kmo_passed = list(X.columns[kmo_all >= 0.5])\n",
        "X_kmo = X[kmo_passed]\n",
        "\n",
        "kmo_all, kmo_model = calculate_kmo(X_kmo)\n",
        "\n",
        "print(\"Overall KMO = {:.3f}\".format(kmo_model))\n",
        "print(\"KMO per feature:\\n{}\".format(kmo_all.round(3)))"
      ],
      "metadata": {
        "colab": {
          "base_uri": "https://localhost:8080/"
        },
        "id": "XOmSDqyAM6U4",
        "outputId": "2a59af06-1410-4c03-8546-e8c67ce7e1ab"
      },
      "execution_count": 11,
      "outputs": [
        {
          "output_type": "stream",
          "name": "stderr",
          "text": [
            "/usr/local/lib/python3.10/dist-packages/factor_analyzer/utils.py:244: UserWarning: The inverse of the variance-covariance matrix was calculated using the Moore-Penrose generalized matrix inversion, due to its determinant being at or very close to zero.\n",
            "  warnings.warn(\n"
          ]
        },
        {
          "output_type": "stream",
          "name": "stdout",
          "text": [
            "Overall KMO = 0.626\n",
            "KMO per feature:\n",
            "[0.509 0.61  0.222 0.394 0.832 0.527 0.527 0.85  0.573 0.622 0.841 0.927\n",
            " 0.593 0.62  0.712 0.58  0.591 0.62  0.58  0.561 0.87  0.518 0.768 0.678\n",
            " 0.485 0.561 0.148 0.136 0.14  0.147 0.147 0.147 0.252]\n"
          ]
        }
      ]
    },
    {
      "cell_type": "code",
      "source": [
        "#Copier les variable choisit\n",
        "X = X_kmo.copy()"
      ],
      "metadata": {
        "id": "KDM7MVtQNZH5"
      },
      "execution_count": 12,
      "outputs": []
    },
    {
      "cell_type": "code",
      "source": [
        "#Fonction pour entrainer le model\n",
        "def train_factor_model(dataset, number_of_factors, rotation=\"varimax\"):\n",
        "  factor_model = FactorAnalyzer(n_factors=number_of_factors, rotation=rotation)\n",
        "  factor_model.fit(dataset)\n",
        "\n",
        "  return factor_model"
      ],
      "metadata": {
        "id": "vUQ_DYjSNlmE"
      },
      "execution_count": 13,
      "outputs": []
    },
    {
      "cell_type": "code",
      "source": [
        "# Fonction pour representer les facteurs\n",
        "def scree_plot(eigenvalues, n_columns):\n",
        "  plt.style.use(\"fivethirtyeight\")\n",
        "  # Create scree plot using matplotlib\n",
        "  fig, ax = plt.subplots(figsize=(10, 6))\n",
        "\n",
        "  ax.scatter(range(1, n_columns + 1), eigenvalues, s=50)\n",
        "  ax.plot(range(1, n_columns + 1), eigenvalues)\n",
        "\n",
        "  ax.set_title('Scree Plot')\n",
        "  ax.set_xlabel('# Factors')\n",
        "  ax.set_ylabel('Eigenvalues')\n",
        "\n",
        "  ax.grid(False)\n",
        "\n",
        "  ax.axhline(y=1, linestyle=\"--\", color=\"grey\", linewidth=1)\n",
        "  # plt.savefig(\"scree_plot.png\", transparent=True, dpi=600)\n",
        "  plt.show()"
      ],
      "metadata": {
        "id": "OmTvaTNTNtHQ"
      },
      "execution_count": 14,
      "outputs": []
    },
    {
      "cell_type": "code",
      "source": [
        "def loadings_plot(loadings, variables):\n",
        "  # Create loadings plot using matplotlib\n",
        "  fig, ax = plt.subplots(figsize=(15, 5))\n",
        "\n",
        "  image = ax.matshow(loadings, cmap=\"hot\")\n",
        "\n",
        "  n_factors = loadings.shape[1]\n",
        "  factors = [\"Factor{}\".format(index) for index in range(n_factors)]\n",
        "\n",
        "  ax.set_yticklabels([\"\"] + variables, fontsize=10)\n",
        "  ax.set_xticklabels([\"\"] + factors, rotation=\"vertical\", fontsize=10)\n",
        "\n",
        "  ax.xaxis.set_major_locator(ticker.MultipleLocator(1))\n",
        "  ax.yaxis.set_major_locator(ticker.MultipleLocator(1))\n",
        "  ax.grid(False)\n",
        "\n",
        "  plt.colorbar(image)\n",
        "  plt.tight_layout()\n",
        "  plt.show()"
      ],
      "metadata": {
        "id": "0dSWOwsON9bc"
      },
      "execution_count": 15,
      "outputs": []
    },
    {
      "cell_type": "code",
      "source": [
        "factor_model = train_factor_model(X, len(X.columns), rotation=\"oblimin\")"
      ],
      "metadata": {
        "id": "O0mUNEHiOCet"
      },
      "execution_count": 16,
      "outputs": []
    },
    {
      "cell_type": "code",
      "source": [
        "# Choosing the Number of Factors\n",
        "eigenvalues, common_factor_eigenvalues = factor_model.get_eigenvalues()"
      ],
      "metadata": {
        "id": "I2n_2rUgOH2U"
      },
      "execution_count": 17,
      "outputs": []
    },
    {
      "cell_type": "code",
      "source": [
        "eigenvalues"
      ],
      "metadata": {
        "colab": {
          "base_uri": "https://localhost:8080/"
        },
        "id": "SYaRkHtVOLxs",
        "outputId": "f731d4c8-967a-4a81-aef4-0b34fdc20a15"
      },
      "execution_count": 23,
      "outputs": [
        {
          "output_type": "execute_result",
          "data": {
            "text/plain": [
              "array([4.53299416e+00, 2.53683946e+00, 2.15124005e+00, 1.47049267e+00,\n",
              "       1.38784665e+00, 1.28792044e+00, 1.20014957e+00, 1.15441390e+00,\n",
              "       1.10523438e+00, 1.09870074e+00, 1.08517295e+00, 1.07986540e+00,\n",
              "       1.06110005e+00, 1.04155726e+00, 1.02704047e+00, 1.00512603e+00,\n",
              "       9.99076206e-01, 9.74882989e-01, 9.43220124e-01, 9.10848239e-01,\n",
              "       8.69505606e-01, 7.86111393e-01, 7.23865738e-01, 6.47754197e-01,\n",
              "       4.43338859e-01, 3.22805307e-01, 2.70432509e-01, 2.56240096e-01,\n",
              "       2.08215787e-01, 1.85306325e-01, 1.32657697e-01, 9.73507064e-02,\n",
              "       2.69403128e-03])"
            ]
          },
          "metadata": {},
          "execution_count": 23
        }
      ]
    },
    {
      "cell_type": "code",
      "source": [
        "# Seuil 1\n",
        "n_columns = len(X.columns)\n",
        "scree_plot(eigenvalues, n_columns=n_columns)"
      ],
      "metadata": {
        "colab": {
          "base_uri": "https://localhost:8080/",
          "height": 605
        },
        "id": "IfW4lA_FOPlE",
        "outputId": "524d7aac-42e6-4960-e749-bb4cbda4a411"
      },
      "execution_count": 24,
      "outputs": [
        {
          "output_type": "display_data",
          "data": {
            "text/plain": [
              "<Figure size 1000x600 with 1 Axes>"
            ],
            "image/png": "[encoded data removed]"
          },
          "metadata": {}
        }
      ]
    },
    {
      "cell_type": "code",
      "source": [
        "number_of_factors = sum(eigenvalues > 1)\n",
        "factor_model = train_factor_model(X, number_of_factors, rotation=\"promax\")"
      ],
      "metadata": {
        "id": "PtuRIrjDIx27"
      },
      "execution_count": 18,
      "outputs": []
    },
    {
      "cell_type": "code",
      "source": [
        "loadings = factor_model.loadings_\n",
        "loadings_abs = np.abs(loadings)\n",
        "\n",
        "columns = X.columns.tolist()\n",
        "loadings_plot(loadings_abs, columns)"
      ],
      "metadata": {
        "colab": {
          "base_uri": "https://localhost:8080/",
          "height": 576
        },
        "id": "3udX7QSEOhVP",
        "outputId": "f2883301-2d1f-497d-d606-1580230e88b4"
      },
      "execution_count": 20,
      "outputs": [
        {
          "output_type": "stream",
          "name": "stderr",
          "text": [
            "<ipython-input-15-8b1479f7c88e>:10: UserWarning: FixedFormatter should only be used together with FixedLocator\n",
            "  ax.set_yticklabels([\"\"] + variables, fontsize=10)\n",
            "<ipython-input-15-8b1479f7c88e>:11: UserWarning: FixedFormatter should only be used together with FixedLocator\n",
            "  ax.set_xticklabels([\"\"] + factors, rotation=\"vertical\", fontsize=10)\n"
          ]
        },
        {
          "output_type": "display_data",
          "data": {
            "text/plain": [
              "<Figure size 1500x500 with 2 Axes>"
            ],
            "image/png": "[encoded data removed]"
          },
          "metadata": {}
        }
      ]
    },
    {
      "cell_type": "code",
      "source": [
        "#regrouper les facteurs\n",
        "n_factors = loadings.shape[1]\n",
        "factors_list = [\"Factor{}\".format(index) for index in range(n_factors)]\n",
        "factors = {}.fromkeys(factors_list, None)\n",
        "for key in factors:\n",
        "  factors[key] = []\n",
        "\n",
        "argsmax = loadings_abs.argmax(axis=1)\n",
        "for argmax, column in zip(argsmax, columns):\n",
        "  factors[factors_list[argmax]].append(column)"
      ],
      "metadata": {
        "id": "tw4HKGDHOwn0"
      },
      "execution_count": 21,
      "outputs": []
    },
    {
      "cell_type": "code",
      "source": [
        "factors"
      ],
      "metadata": {
        "colab": {
          "base_uri": "https://localhost:8080/"
        },
        "id": "7jU9IGLNO01N",
        "outputId": "f0989f01-df33-48bc-9bc7-e8c4d5321a29"
      },
      "execution_count": 27,
      "outputs": [
        {
          "output_type": "execute_result",
          "data": {
            "text/plain": [
              "{'Factor0': ['catu_Pieton',\n",
              "  'locp_Sur_Passage_Pieton',\n",
              "  'actp_Traversant',\n",
              "  'etatp_Seul'],\n",
              " 'Factor1': ['sexe_Feminin',\n",
              "  'sexe_Masculin',\n",
              "  'trajet_Utilisation_Professionnelle'],\n",
              " 'Factor2': ['col_2_Vehicules', 'obs_Vehicule'],\n",
              " 'Factor3': ['senc_Repere_Decroissant',\n",
              "  'situ_Chausse',\n",
              "  'situ_Trottoir/Bord_de_route',\n",
              "  'vosp_Cycl/Reserv'],\n",
              " 'Factor4': ['region_Hauts-de-France'],\n",
              " 'Factor5': ['Casque', 'Ceinture', 'Dispositif_Enfant'],\n",
              " 'Factor6': ['region_Nouvelle-Aquitaine'],\n",
              " 'Factor7': [\"region_Provence-Alpes-Côte d'Azur\"],\n",
              " 'Factor8': ['region_Grand Est'],\n",
              " 'Factor9': ['obs_Fixe', 'obs_Piéton'],\n",
              " 'Factor10': ['region_Occitanie', 'region_Île-de-France'],\n",
              " 'Factor11': ['int_TouY'],\n",
              " 'Factor12': ['region_Auvergne-Rhône-Alpes'],\n",
              " 'Factor13': ['locp_Chausse_Hors_Passage_Pieton'],\n",
              " 'Factor14': ['prof_Pente', 'plan_Courbe'],\n",
              " 'Factor15': ['Equipement_Réfléchissant',\n",
              "  'infra_Autre',\n",
              "  'infra_Carrefour',\n",
              "  'int_X']}"
            ]
          },
          "metadata": {},
          "execution_count": 27
        }
      ]
    },
    {
      "cell_type": "code",
      "source": [
        "X_latent = factor_model.transform(X)\n",
        "y_multiclass = np.array(y).ravel()"
      ],
      "metadata": {
        "id": "_06qR53uP4H-"
      },
      "execution_count": 22,
      "outputs": []
    },
    {
      "cell_type": "code",
      "source": [
        "def train(X, y, grid_params, seed):\n",
        "\n",
        "  scaler = StandardScaler()\n",
        "  X_scaled = scaler.fit_transform(X)\n",
        "\n",
        "  X_train, X_test, y_train, y_test = train_test_split(X_scaled, y,\n",
        "                                                      test_size=0.2,\n",
        "                                                      random_state=seed,\n",
        "                                                      stratify=y)\n",
        "\n",
        "  # The models dict has same keys as grid_params\n",
        "  # pointing to the grid search of each classifier\n",
        "  models = {\n",
        "      #\"SGD\": SGDClassifier(),\n",
        "      \"Logistic Regression\": LogisticRegression()\n",
        "      #\"Random Forest\": RandomForestClassifier(),\n",
        "      #\"AdaBoost\": AdaBoostClassifier(),\n",
        "      #\"GradientBoost\": GradientBoostingClassifier()\n",
        "  }\n",
        "\n",
        "  # store best estimators\n",
        "  best_estimators = dict.fromkeys(models.keys())\n",
        "\n",
        "  for model_name in models:\n",
        "    base_clf = models[model_name]\n",
        "    params = grid_params[model_name]\n",
        "\n",
        "    print(\"[INFO] Performing Grid-Search CV ---- {}\".format(model_name))\n",
        "    model = GridSearchCV(base_clf, params, scoring='accuracy', cv=5, n_jobs=-1,\n",
        "                         verbose=0)\n",
        "\n",
        "    model.fit(X_train, y_train)\n",
        "    best_estimators[model_name] = model.best_estimator_\n",
        "\n",
        "  return best_estimators, X_test, y_test"
      ],
      "metadata": {
        "id": "g8Bha5lUP-Ih"
      },
      "execution_count": 23,
      "outputs": []
    },
    {
      "cell_type": "code",
      "source": [
        "def evaluate_multiclass(models, X_test, y_test):\n",
        "  results = pd.DataFrame(columns=[\"Overall Accuracy\"], index=models.keys())\n",
        "\n",
        "  for model_name, model in models.items():\n",
        "    n_samples = len(y_test)\n",
        "    y_pred = model.predict(X_test)\n",
        "\n",
        "    overall_accuracy = np.sum(y_pred == y_test) / n_samples\n",
        "    results.loc[model_name, :] = overall_accuracy\n",
        "\n",
        "  return results"
      ],
      "metadata": {
        "id": "3hpnTHqzQNmf"
      },
      "execution_count": 24,
      "outputs": []
    },
    {
      "cell_type": "code",
      "source": [
        "def select_multiclass_model(models, X_test, y_test):\n",
        "  best_overall_accuracy = -1\n",
        "  best_model = \"\"\n",
        "  n_samples = len(y_test)\n",
        "\n",
        "  for model_name, model in models.items():\n",
        "    y_pred = model.predict(X_test)\n",
        "\n",
        "    overall_accuracy = np.sum(y_pred == y_test) / n_samples\n",
        "\n",
        "    if overall_accuracy > best_overall_accuracy:\n",
        "      best_overall_accuracy = overall_accuracy\n",
        "      best_model = model_name\n",
        "\n",
        "  print(\"{}\\nOverall accuracy = {:.4f}\".format(best_model, best_overall_accuracy))\n",
        "  return models[best_model]"
      ],
      "metadata": {
        "id": "JM7xHVh7QTZ6"
      },
      "execution_count": 25,
      "outputs": []
    },
    {
      "cell_type": "code",
      "source": [
        "grid_params_multiclass = {\n",
        "   # \"SGD\": {\n",
        "   #     \"penalty\": [\"l1\", \"l2\", \"elasticnet\"],\n",
        "   #     \"alpha\": np.linspace(1e-5, 1e-3, 5),\n",
        "   #     \"learning_rate\": [\"optimal\", \"invscaling\", \"adaptive\"],\n",
        "   #     \"eta0\": np.linspace(1e-4, 1e-1, 5)\n",
        "   # },\n",
        "   \"Logistic Regression\": {\n",
        "        \"penalty\": [\"l1\", \"l2\"],\n",
        "        \"C\": [1, 2, 4, 5],\n",
        "        \"solver\": [\"liblinear\"]\n",
        "    }\n",
        "    #\"Random Forest\": {\n",
        "    #    \"criterion\": [\"gini\", \"entropy\"],\n",
        "    #    \"max_depth\": np.linspace(3, 12, 4, dtype=np.int64),\n",
        "    #    \"min_samples_split\": np.linspace(0.1, 0.5, 6),\n",
        "    #    \"min_samples_leaf\": np.linspace(0.1, 0.5, 6),\n",
        "    #    \"max_features\":[\"log2\",\"sqrt\"]\n",
        "    #}\n",
        "    #\"AdaBoost\": {\n",
        "     #   \"base_estimator\": [DecisionTreeClassifier(max_depth=1),\n",
        "     #                      DecisionTreeClassifier(max_depth=2),\n",
        "      #                     DecisionTreeClassifier(max_depth=3)],\n",
        "      #  \"learning_rate\": [0.01, 0.025, 0.05, 0.075, 0.1],\n",
        "      #  \"n_estimators\": np.linspace(20, 80, 4, dtype=np.int64),\n",
        "   # }\n",
        "    #\"GradientBoost\": {\n",
        "    #    \"loss\":[\"deviance\"],\n",
        "    #    \"learning_rate\": [0.01, 0.025, 0.05, 0.075],\n",
        "    #    \"min_samples_split\": np.linspace(0.1, 0.5, 5),\n",
        "    #    \"min_samples_leaf\": np.linspace(0.1, 0.5, 5),\n",
        "    #    \"max_depth\":[3, 5, 8],\n",
        "    #    \"max_features\":[\"log2\",\"sqrt\"],\n",
        "    #    \"criterion\": [\"friedman_mse\"],\n",
        "    #   \"subsample\":[0.5, 0.618, 0.85],\n",
        "    #    \"n_estimators\":[5, 10, 15]\n",
        "   # }\n",
        "}"
      ],
      "metadata": {
        "id": "-uBMY9rAQVFK"
      },
      "execution_count": 26,
      "outputs": []
    },
    {
      "cell_type": "markdown",
      "source": [
        "# Entrainer le modelle"
      ],
      "metadata": {
        "id": "n6mCbDalQeE3"
      }
    },
    {
      "cell_type": "code",
      "source": [
        "## Train and evaluate binary model with factor analysis (latent) variables\n",
        "seed = 42\n",
        "estimators_multiclass_latent, X_test_latent, y_test_multiclass = train(X_latent, y_multiclass,\n",
        "                                                                       grid_params_multiclass, seed)\n",
        "\n",
        "evaluate_multiclass(estimators_multiclass_latent, X_test_latent, y_test_multiclass)"
      ],
      "metadata": {
        "colab": {
          "base_uri": "https://localhost:8080/",
          "height": 98
        },
        "id": "j8DfH2pXQjED",
        "outputId": "ab17148a-51b1-4aef-aa75-309e9761320e"
      },
      "execution_count": 33,
      "outputs": [
        {
          "output_type": "stream",
          "name": "stdout",
          "text": [
            "[INFO] Performing Grid-Search CV ---- Logistic Regression\n"
          ]
        },
        {
          "output_type": "execute_result",
          "data": {
            "text/plain": [
              "                    Overall Accuracy\n",
              "Logistic Regression         0.567065"
            ],
            "text/html": [
              "\n",
              "  <div id=\"df-bc00fdb2-bb58-4b86-ba66-3cda071afd02\" class=\"colab-df-container\">\n",
              "    <div>\n",
              "<style scoped>\n",
              "    .dataframe tbody tr th:only-of-type {\n",
              "        vertical-align: middle;\n",
              "    }\n",
              "\n",
              "    .dataframe tbody tr th {\n",
              "        vertical-align: top;\n",
              "    }\n",
              "\n",
              "    .dataframe thead th {\n",
              "        text-align: right;\n",
              "    }\n",
              "</style>\n",
              "<table border=\"1\" class=\"dataframe\">\n",
              "  <thead>\n",
              "    <tr style=\"text-align: right;\">\n",
              "      <th></th>\n",
              "      <th>Overall Accuracy</th>\n",
              "    </tr>\n",
              "  </thead>\n",
              "  <tbody>\n",
              "    <tr>\n",
              "      <th>Logistic Regression</th>\n",
              "      <td>0.567065</td>\n",
              "    </tr>\n",
              "  </tbody>\n",
              "</table>\n",
              "</div>\n",
              "    <div class=\"colab-df-buttons\">\n",
              "\n",
              "  <div class=\"colab-df-container\">\n",
              "    <button class=\"colab-df-convert\" onclick=\"convertToInteractive('df-bc00fdb2-bb58-4b86-ba66-3cda071afd02')\"\n",
              "            title=\"Convert this dataframe to an interactive table.\"\n",
              "            style=\"display:none;\">\n",
              "\n",
              "  <svg xmlns=\"http://www.w3.org/2000/svg\" height=\"24px\" viewBox=\"0 -960 960 960\">\n",
              "    <path d=\"M120-120v-720h720v720H120Zm60-500h600v-160H180v160Zm220 220h160v-160H400v160Zm0 220h160v-160H400v160ZM180-400h160v-160H180v160Zm440 0h160v-160H620v160ZM180-180h160v-160H180v160Zm440 0h160v-160H620v160Z\"/>\n",
              "  </svg>\n",
              "    </button>\n",
              "\n",
              "  <style>\n",
              "    .colab-df-container {\n",
              "      display:flex;\n",
              "      gap: 12px;\n",
              "    }\n",
              "\n",
              "    .colab-df-convert {\n",
              "      background-color: #E8F0FE;\n",
              "      border: none;\n",
              "      border-radius: 50%;\n",
              "      cursor: pointer;\n",
              "      display: none;\n",
              "      fill: #1967D2;\n",
              "      height: 32px;\n",
              "      padding: 0 0 0 0;\n",
              "      width: 32px;\n",
              "    }\n",
              "\n",
              "    .colab-df-convert:hover {\n",
              "      background-color: #E2EBFA;\n",
              "      box-shadow: 0px 1px 2px rgba(60, 64, 67, 0.3), 0px 1px 3px 1px rgba(60, 64, 67, 0.15);\n",
              "      fill: #174EA6;\n",
              "    }\n",
              "\n",
              "    .colab-df-buttons div {\n",
              "      margin-bottom: 4px;\n",
              "    }\n",
              "\n",
              "    [theme=dark] .colab-df-convert {\n",
              "      background-color: #3B4455;\n",
              "      fill: #D2E3FC;\n",
              "    }\n",
              "\n",
              "    [theme=dark] .colab-df-convert:hover {\n",
              "      background-color: #434B5C;\n",
              "      box-shadow: 0px 1px 3px 1px rgba(0, 0, 0, 0.15);\n",
              "      filter: drop-shadow(0px 1px 2px rgba(0, 0, 0, 0.3));\n",
              "      fill: #FFFFFF;\n",
              "    }\n",
              "  </style>\n",
              "\n",
              "    <script>\n",
              "      const buttonEl =\n",
              "        document.querySelector('#df-bc00fdb2-bb58-4b86-ba66-3cda071afd02 button.colab-df-convert');\n",
              "      buttonEl.style.display =\n",
              "        google.colab.kernel.accessAllowed ? 'block' : 'none';\n",
              "\n",
              "      async function convertToInteractive(key) {\n",
              "        const element = document.querySelector('#df-bc00fdb2-bb58-4b86-ba66-3cda071afd02');\n",
              "        const dataTable =\n",
              "          await google.colab.kernel.invokeFunction('convertToInteractive',\n",
              "                                                    [key], {});\n",
              "        if (!dataTable) return;\n",
              "\n",
              "        const docLinkHtml = 'Like what you see? Visit the ' +\n",
              "          '<a target=\"_blank\" href=https://colab.research.google.com/notebooks/data_table.ipynb>data table notebook</a>'\n",
              "          + ' to learn more about interactive tables.';\n",
              "        element.innerHTML = '';\n",
              "        dataTable['output_type'] = 'display_data';\n",
              "        await google.colab.output.renderOutput(dataTable, element);\n",
              "        const docLink = document.createElement('div');\n",
              "        docLink.innerHTML = docLinkHtml;\n",
              "        element.appendChild(docLink);\n",
              "      }\n",
              "    </script>\n",
              "  </div>\n",
              "\n",
              "    </div>\n",
              "  </div>\n"
            ]
          },
          "metadata": {},
          "execution_count": 33
        }
      ]
    },
    {
      "cell_type": "code",
      "source": [
        "def classification_repot(models, X_test, y_test):\n",
        "  best_overall_accuracy = -1\n",
        "  best_model = \"\"\n",
        "  n_samples = len(y_test)\n",
        "\n",
        "  for model_name, model in models.items():\n",
        "    y_pred = model.predict(X_test)\n",
        "    C = classification_report(y_test, y_pred)\n",
        "    overall_accuracy = np.sum(y_pred == y_test) / n_samples\n",
        "\n",
        "    if overall_accuracy > best_overall_accuracy:\n",
        "      best_overall_accuracy = overall_accuracy\n",
        "      best_model = model_name\n",
        "\n",
        "  #print(\"{}\\nOverall accuracy = {:.4f}\".format(best_model, best_overall_accuracy))\n",
        "  return print(C)\n",
        "\n",
        "classifition = classification_repot(estimators_multiclass_latent, X_test_latent, y_test_multiclass)"
      ],
      "metadata": {
        "colab": {
          "base_uri": "https://localhost:8080/",
          "height": 210
        },
        "id": "vkP50BfugvSz",
        "outputId": "5eb5c956-cb6a-4448-873f-9e60235bad3f"
      },
      "execution_count": 9,
      "outputs": [
        {
          "output_type": "error",
          "ename": "NameError",
          "evalue": "ignored",
          "traceback": [
            "\u001b[0;31m---------------------------------------------------------------------------\u001b[0m",
            "\u001b[0;31mNameError\u001b[0m                                 Traceback (most recent call last)",
            "\u001b[0;32m<ipython-input-9-c46e7eafd631>\u001b[0m in \u001b[0;36m<cell line: 18>\u001b[0;34m()\u001b[0m\n\u001b[1;32m     16\u001b[0m   \u001b[0;32mreturn\u001b[0m \u001b[0mprint\u001b[0m\u001b[0;34m(\u001b[0m\u001b[0mC\u001b[0m\u001b[0;34m)\u001b[0m\u001b[0;34m\u001b[0m\u001b[0;34m\u001b[0m\u001b[0m\n\u001b[1;32m     17\u001b[0m \u001b[0;34m\u001b[0m\u001b[0m\n\u001b[0;32m---> 18\u001b[0;31m \u001b[0mclassifition\u001b[0m \u001b[0;34m=\u001b[0m \u001b[0mclassification_repot\u001b[0m\u001b[0;34m(\u001b[0m\u001b[0mestimators_multiclass_latent\u001b[0m\u001b[0;34m,\u001b[0m \u001b[0mX_test_latent\u001b[0m\u001b[0;34m,\u001b[0m \u001b[0my_test_multiclass\u001b[0m\u001b[0;34m)\u001b[0m\u001b[0;34m\u001b[0m\u001b[0;34m\u001b[0m\u001b[0m\n\u001b[0m",
            "\u001b[0;31mNameError\u001b[0m: name 'estimators_multiclass_latent' is not defined"
          ]
        }
      ]
    },
    {
      "cell_type": "code",
      "source": [
        "X.shape"
      ],
      "metadata": {
        "colab": {
          "base_uri": "https://localhost:8080/"
        },
        "id": "mQ11XjrdkbLp",
        "outputId": "7ff6c17d-3770-4d47-958a-8d8dbaab4355"
      },
      "execution_count": 10,
      "outputs": [
        {
          "output_type": "execute_result",
          "data": {
            "text/plain": [
              "(2509660, 33)"
            ]
          },
          "metadata": {},
          "execution_count": 10
        }
      ]
    },
    {
      "cell_type": "code",
      "source": [
        "## Train and evaluate binary model with the original variables (without factor analysis)\n",
        "seed = 42\n",
        "estimatorsmulticlass, X_test, y_test_multiclass = train(X, y_multiclass,\n",
        "                                                         grid_params_multiclass,\n",
        "                                                         seed)\n",
        "\n",
        "evaluate_multiclass(estimators_multiclass, X_test, y_test_multiclass)"
      ],
      "metadata": {
        "colab": {
          "base_uri": "https://localhost:8080/"
        },
        "id": "l4rf7G4xQqmO",
        "outputId": "838e30b7-6788-404e-a7f8-9f40581accc7"
      },
      "execution_count": null,
      "outputs": [
        {
          "output_type": "stream",
          "name": "stdout",
          "text": [
            "[INFO] Performing Grid-Search CV ---- Logistic Regression\n"
          ]
        }
      ]
    },
    {
      "cell_type": "code",
      "source": [
        "def classification_repot(models, X_test, y_test):\n",
        "  best_overall_accuracy = -1\n",
        "  best_model = \"\"\n",
        "  n_samples = len(y_test)\n",
        "\n",
        "  for model_name, model in models.items():\n",
        "    y_pred = model.predict(X_test)\n",
        "    C = classification_report(y_test, y_pred)\n",
        "    overall_accuracy = np.sum(y_pred == y_test) / n_samples\n",
        "\n",
        "    if overall_accuracy > best_overall_accuracy:\n",
        "      best_overall_accuracy = overall_accuracy\n",
        "      best_model = model_name\n",
        "\n",
        "  #print(\"{}\\nOverall accuracy = {:.4f}\".format(best_model, best_overall_accuracy))\n",
        "  return print(C)\n",
        "\n",
        "classifition = classification_repot(estimators_multiclass, X_test, y_test_multiclass)"
      ],
      "metadata": {
        "id": "mdQ_gmL5gcBh"
      },
      "execution_count": null,
      "outputs": []
    },
    {
      "cell_type": "code",
      "source": [
        "def confusion_m(models, X_test, y_test):\n",
        "  best_overall_accuracy = -1\n",
        "  best_model = \"\"\n",
        "  n_samples = len(y_test)\n",
        "\n",
        "  for model_name, model in models.items():\n",
        "    y_pred = model.predict(X_test)\n",
        "    cnf_matrix = confusion_matrix(y_test, y_pred)\n",
        "    overall_accuracy = np.sum(y_pred == y_test) / n_samples\n",
        "\n",
        "    if overall_accuracy > best_overall_accuracy:\n",
        "      best_overall_accuracy = overall_accuracy\n",
        "      best_model = model_name\n",
        "\n",
        "  #print(\"{}\\nOverall accuracy = {:.4f}\".format(best_model, best_overall_accuracy))\n",
        "  return print(cnf_matrix)\n",
        "\n",
        "#cnf_matrix = confusion_m(estimators_multiclass, X_test, y_test_multiclass)"
      ],
      "metadata": {
        "id": "eciDT7izZcLA"
      },
      "execution_count": null,
      "outputs": []
    },
    {
      "cell_type": "code",
      "source": [
        "cnf_matrix = confusion_m(estimators_multiclass, X_test, y_test_multiclass)"
      ],
      "metadata": {
        "id": "PctcpuDRmF8h"
      },
      "execution_count": null,
      "outputs": []
    },
    {
      "cell_type": "code",
      "source": [
        "#Evaluation\n",
        "model=lr\n",
        "y_pred=model.predict(X_test)\n",
        "\n",
        "cm = pd.crosstab(y_test, y_pred, rownames=['Classe réelle'], colnames=['Classe prédite'])\n",
        "print(model,'\\n')\n",
        "print(cm,'\\n')\n",
        "report = classification_report(y_test, y_pred)\n",
        "print(report,'\\n')"
      ],
      "metadata": {
        "id": "KweAURceZcvl"
      },
      "execution_count": null,
      "outputs": []
    },
    {
      "cell_type": "markdown",
      "source": [
        "# Binaire classification - Analyse factorielle"
      ],
      "metadata": {
        "id": "KpwTsNqrh39W"
      }
    },
    {
      "cell_type": "code",
      "source": [
        "def evaluate_binary(models, X_test, y_test):\n",
        "\n",
        "  results = pd.DataFrame(columns=[\"accuracy\", \"Precision\", \"Recall\", \"F1 Score\"],\n",
        "                         index=models.keys())\n",
        "\n",
        "  for model_name, model in models.items():\n",
        "    y_pred = model.predict(X_test)\n",
        "\n",
        "    accuracy = accuracy_score(y_test, y_pred)\n",
        "    recall = recall_score(y_test, y_pred)\n",
        "    precision = precision_score(y_test, y_pred)\n",
        "    f1 = f1_score(y_test, y_pred)\n",
        "\n",
        "    results.loc[model_name, :] = accuracy, precision, recall, f1\n",
        "\n",
        "  return results"
      ],
      "metadata": {
        "id": "UGXcAPBZh9nq"
      },
      "execution_count": null,
      "outputs": []
    },
    {
      "cell_type": "code",
      "source": [
        "# choose best models based on accuracy\n",
        "def select_binary_model(models, X_test, y_test):\n",
        "  best_accuracy = -1\n",
        "  best_model = \"\"\n",
        "  for model_name, model in models.items():\n",
        "    y_pred = model.predict(X_test)\n",
        "    accuracy = accuracy_score(y_test, y_pred)\n",
        "    if accuracy > best_accuracy:\n",
        "      best_accuracy = accuracy\n",
        "      best_model = model_name\n",
        "\n",
        "  print(\"{}\\naccuracy = {:.4f}\".format(best_model, best_accuracy))\n",
        "  return models[best_model]"
      ],
      "metadata": {
        "id": "Hg-6_-uKsG7E"
      },
      "execution_count": null,
      "outputs": []
    },
    {
      "cell_type": "code",
      "source": [
        "grid_params_binary = {\n",
        "    \"SGD\": {\n",
        "        \"penalty\": [\"l1\", \"l2\", \"elasticnet\"],\n",
        "        \"alpha\": np.linspace(1e-5, 1e-3, 5),\n",
        "        \"learning_rate\": [\"optimal\", \"invscaling\", \"adaptive\"],\n",
        "        \"eta0\": np.linspace(1e-4, 1e-1, 5)\n",
        "    },\n",
        "    \"Logistic Regression\": {\n",
        "        \"penalty\": [\"l1\", \"l2\"],\n",
        "        \"C\": [1, 2, 4, 5],\n",
        "        \"solver\": [\"liblinear\"]\n",
        "    },\n",
        "    \"Random Forest\": {\n",
        "        \"criterion\": [\"gini\", \"entropy\"],\n",
        "        \"max_depth\": np.linspace(3, 12, 4, dtype=np.int64),\n",
        "        \"min_samples_split\": np.linspace(0.1, 0.5, 6),\n",
        "        \"min_samples_leaf\": np.linspace(0.1, 0.5, 6),\n",
        "        \"max_features\":[\"log2\",\"sqrt\"]\n",
        "    },\n",
        "    \"AdaBoost\": {\n",
        "        \"base_estimator\": [DecisionTreeClassifier(max_depth=1),\n",
        "                           DecisionTreeClassifier(max_depth=2),\n",
        "                           DecisionTreeClassifier(max_depth=3)],\n",
        "        \"learning_rate\": [0.01, 0.025, 0.05, 0.075, 0.1],\n",
        "        \"n_estimators\": np.linspace(20, 80, 4, dtype=np.int64),\n",
        "    },\n",
        "    \"GradientBoost\": {\n",
        "        \"loss\":[\"deviance\"],\n",
        "        \"learning_rate\": [0.01, 0.025, 0.05, 0.075],\n",
        "        \"min_samples_split\": np.linspace(0.1, 0.5, 5),\n",
        "        \"min_samples_leaf\": np.linspace(0.1, 0.5, 5),\n",
        "        \"max_depth\":[3, 5, 8],\n",
        "        \"max_features\":[\"log2\",\"sqrt\"],\n",
        "        \"criterion\": [\"friedman_mse\"],\n",
        "        \"subsample\":[0.5, 0.618, 0.85],\n",
        "        \"n_estimators\":[5, 10, 15]\n",
        "    }\n",
        "}"
      ],
      "metadata": {
        "id": "3Ghc7sb7sMpk"
      },
      "execution_count": null,
      "outputs": []
    },
    {
      "cell_type": "code",
      "source": [
        "# Train and evaluate binary model with factor analysis (latent) variables\n",
        "estimators_binary_latent, X_test_latent, y_test_binary = train(X_latent,\n",
        "                                                               y_binary,\n",
        "                                                               grid_params_binary,\n",
        "                                                               seed)\n",
        "\n",
        "evaluate_binary(estimators_binary_latent, X_test_latent, y_test_binary)"
      ],
      "metadata": {
        "id": "z7zDxyQLsWQJ"
      },
      "execution_count": null,
      "outputs": []
    },
    {
      "cell_type": "code",
      "source": [
        "# Train and evaluate binary model with the original variables (without factor analysis)\n",
        "estimators_binary, X_test, y_test_binary = train(X, y_binary,\n",
        "                                                 grid_params_binary,\n",
        "                                                 seed)\n",
        "\n",
        "evaluate_binary(estimators_binary, X_test, y_test_binary)"
      ],
      "metadata": {
        "id": "oIupMD-xsdE7"
      },
      "execution_count": null,
      "outputs": []
    }
  ]
}